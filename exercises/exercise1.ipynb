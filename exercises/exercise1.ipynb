{
 "cells": [
  {
   "cell_type": "markdown",
   "metadata": {},
   "source": [
    "## Exercise 1: Toy example to demonstrate how sentiment analysis works"
   ]
  },
  {
   "cell_type": "markdown",
   "metadata": {},
   "source": [
    "#### Import Libraries"
   ]
  },
  {
   "cell_type": "code",
   "execution_count": null,
   "metadata": {},
   "outputs": [],
   "source": [
    "# Your code here"
   ]
  },
  {
   "cell_type": "markdown",
   "metadata": {},
   "source": [
    "#### Work with the provided toy dataset `data/toy_dataset.tsv` and load it into a Pandas dataframe"
   ]
  },
  {
   "cell_type": "code",
   "execution_count": null,
   "metadata": {},
   "outputs": [],
   "source": [
    "dataset = ['./data/toy_dataset.tsv']\n",
    "\n",
    "# Your code here"
   ]
  },
  {
   "cell_type": "markdown",
   "metadata": {},
   "source": [
    "#### Preprocess data"
   ]
  },
  {
   "cell_type": "code",
   "execution_count": null,
   "metadata": {},
   "outputs": [],
   "source": [
    "# corpus will store your cleaned dataset after preprocessing.\n",
    "corpus = []\n",
    "\n",
    "'''Loop over the dataset after converting it to a Pandas dataframe using read_csv(). \n",
    "    Inside your loop:\n",
    "        * Using python built-in methods lower() and split() all the words.\n",
    "        * Create an instance of PorterStemmer and stem each word if those words are not in the nltk.stopwords('english') set.\n",
    "        * Join (using Python method join() ) all the words that are now free from stopwords\n",
    "        * Append this new dataset into the corpus[]\n",
    "\n",
    "    Now, you have preprocessed the data!\n",
    "'''\n",
    "for i in range(0,26):\n",
    "    data = re.sub('[^a-zA-Z]', ' ', dataset['verified_reviews'][i] )\n",
    "    # Your code here"
   ]
  },
  {
   "cell_type": "markdown",
   "metadata": {},
   "source": [
    "#### Representing Text as Numerical Vectors\n",
    "+ We first need to represent texts to numbers that the learning algorithm can process. \n",
    "+ To represent each word in the dataset, we will use `CountVectorizer`. This is a very straightforward class for converting words into features.\n",
    "+ `CountVectorizer` will also lowercase and tokenize the data, but it is good practice to know how to do such preprocessing as we have done above. "
   ]
  },
  {
   "cell_type": "code",
   "execution_count": null,
   "metadata": {},
   "outputs": [],
   "source": [
    "#TODO: Inspect the code provided below\n",
    "\n",
    "from sklearn.feature_extraction.text import CountVectorizer\n",
    "\n",
    "\n",
    "# Build a vocabulary that only consider the top max_features ordered by term frequency across the corpus.\n",
    "vectorizer = CountVectorizer(max_features=1400)\n",
    "\n",
    "# The function fit_transform() is used for dataset transformations in scikit-learn. \n",
    "X = vectorizer.fit_transform(corpus).toarray()\n",
    "\n",
    "y = dataset.iloc[:,4].values"
   ]
  },
  {
   "cell_type": "markdown",
   "metadata": {},
   "source": [
    "#### Splitting the Dataset into Training and Testing Sets\n",
    "\n",
    "+ To be able to test the accuracy of Machine Learning models' results, we need to have a set of data that our model has not seen during training. \n",
    "+ To achieve this, we will use a train/test split method, provided by scikit-learn library to split our data with %80 training and %20 testing sets.\n",
    "\n",
    "\n",
    "#### Inspect the split of our dataset into `train` and `test` sets. "
   ]
  },
  {
   "cell_type": "code",
   "execution_count": null,
   "metadata": {},
   "outputs": [],
   "source": [
    "from sklearn.model_selection import train_test_split\n",
    "\n",
    "# Our test size is 0.2, meaning X_test and y_test contains 20% of our data which we reserve for testing.\n",
    "X_train, X_test, y_train, y_test = train_test_split(X, y, test_size = 0.2, random_state = 0)"
   ]
  },
  {
   "cell_type": "markdown",
   "metadata": {},
   "source": [
    "### Selecting a Classifier \n",
    "\n",
    "+ We will use `RandomForestClassifier()` from scikit-learn library as our classifier for this exercise. \n",
    "+ Please note, there are a number of classifiers that you can use for Sentiment Analysis.\n"
   ]
  },
  {
   "cell_type": "markdown",
   "metadata": {},
   "source": [
    "#### Import `RandomForestClassifier()` from `sklearn.ensemble` library and create an instance of it\n",
    "\n",
    "+ sklearn RandomForestClassifier takes the arguments below. For our purposes, we will only need `'n_estimators` [The number of trees in the forest e.g. 100] and `random_state = 0`. Go ahead and create your classifier. \n",
    "\n",
    "```RandomForestClassifier(bootstrap=True, class_weight=None, criterion='entropy',\n",
    "            max_depth=None, max_features='auto', max_leaf_nodes=None,\n",
    "            min_impurity_decrease=0.0, min_impurity_split=None,\n",
    "            min_samples_leaf=1, min_samples_split=2,\n",
    "            min_weight_fraction_leaf=0.0, n_estimators=100, n_jobs=1,\n",
    "            oob_score=False, random_state=0, verbose=0, warm_start=False)```\n",
    "\n"
   ]
  },
  {
   "cell_type": "code",
   "execution_count": null,
   "metadata": {},
   "outputs": [],
   "source": [
    "# Your code here "
   ]
  },
  {
   "cell_type": "markdown",
   "metadata": {},
   "source": [
    "#### Fit and Predict the test set results\n",
    "+ Using `fit()` and `predict()` functions on the classifier you have created above, we will predict the results of our test set"
   ]
  },
  {
   "cell_type": "code",
   "execution_count": null,
   "metadata": {},
   "outputs": [],
   "source": [
    "# Your code here "
   ]
  },
  {
   "cell_type": "markdown",
   "metadata": {},
   "source": [
    "+ If you have come this far, you are ready for Exercise 2. "
   ]
  },
  {
   "cell_type": "markdown",
   "metadata": {},
   "source": [
    "Continue to **exercise2.ipynb**"
   ]
  }
 ],
 "metadata": {
  "kernelspec": {
   "display_name": "Python 3",
   "language": "python",
   "name": "python3"
  },
  "language_info": {
   "codemirror_mode": {
    "name": "ipython",
    "version": 3
   },
   "file_extension": ".py",
   "mimetype": "text/x-python",
   "name": "python",
   "nbconvert_exporter": "python",
   "pygments_lexer": "ipython3",
   "version": "3.7.1"
  }
 },
 "nbformat": 4,
 "nbformat_minor": 2
}
